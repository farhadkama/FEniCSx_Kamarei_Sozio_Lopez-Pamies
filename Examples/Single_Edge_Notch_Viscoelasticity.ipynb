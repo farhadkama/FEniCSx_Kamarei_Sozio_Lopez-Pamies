{
  "cells": [
    {
      "cell_type": "markdown",
      "metadata": {
        "id": "8nZOwNbswC81"
      },
      "source": [
        "## Adding the Dolfinx library to the colab environment"
      ]
    },
    {
      "cell_type": "code",
      "execution_count": null,
      "metadata": {
        "id": "R5-6CbHERaYQ"
      },
      "outputs": [],
      "source": [
        "!wget \"https://fem-on-colab.github.io/releases/fenicsx-install-real.sh\" -O \"/tmp/fenicsx-install.sh\" && bash \"/tmp/fenicsx-install.sh\""
      ]
    },
    {
      "cell_type": "markdown",
      "metadata": {
        "id": "0IFmOKwrwG3i"
      },
      "source": [
        "## Importing the required libraries"
      ]
    },
    {
      "cell_type": "code",
      "execution_count": null,
      "metadata": {
        "id": "dnNdHHJ2STPp"
      },
      "outputs": [],
      "source": [
        "from mpi4py import MPI\n",
        "from dolfinx import mesh, fem, io, plot, nls, log, geometry, la\n",
        "import basix.ufl\n",
        "import dolfinx.fem.petsc\n",
        "import ufl\n",
        "import numpy as np\n",
        "from petsc4py.PETSc import ScalarType\n",
        "from petsc4py import PETSc\n",
        "from time import time\n",
        "import os"
      ]
    },
    {
      "cell_type": "markdown",
      "metadata": {
        "id": "2S-JVfg0wJY3"
      },
      "source": [
        "## Setting material properties"
      ]
    },
    {
      "cell_type": "code",
      "execution_count": null,
      "metadata": {
        "id": "UV7Xl3X7SaQW"
      },
      "outputs": [],
      "source": [
        "log.set_log_level(log.LogLevel.WARNING)\n",
        "comm = MPI.COMM_WORLD\n",
        "rank = comm.Get_rank()\n",
        "size = comm.Get_size()\n",
        "\n",
        "kap_by_mu = ScalarType(10.**3)\n",
        "\n",
        "\n",
        "# Material Properties\n",
        "mu1 = ScalarType(0.09)\n",
        "mu2 = ScalarType(0.01)\n",
        "mu_pr = ScalarType(kap_by_mu*(mu1 + mu2))\n",
        "alph1 = ScalarType(1)\n",
        "alph2 = ScalarType(1)\n",
        "m1 = ScalarType(0.45)\n",
        "m2 = ScalarType(0.05)\n",
        "a1 = ScalarType(1)\n",
        "a2 = ScalarType(1)\n",
        "K1 = ScalarType(0)\n",
        "K2 = ScalarType(0)\n",
        "bta1 = ScalarType(1)\n",
        "bta2 = ScalarType(1)\n",
        "eta0 = ScalarType(0.5)\n",
        "etaInf = ScalarType(0.0)\n",
        "N0 = ScalarType(0.5)"
      ]
    },
    {
      "cell_type": "markdown",
      "metadata": {
        "id": "WH3t-ro4wL-O"
      },
      "source": [
        "## Generating the mesh with element size $h$"
      ]
    },
    {
      "cell_type": "code",
      "execution_count": null,
      "metadata": {
        "id": "4ulIC46CS1Ml"
      },
      "outputs": [],
      "source": [
        "ac = 2                                                                            #length of the crack\n",
        "W, L = 4.0, 7.5                                                                   #making use of symmetry\n",
        "g = 0.5                                                                           #thickness of the domain\n",
        "# Create mesh\n",
        "\n",
        "h = 0.02\n",
        "domain = mesh.create_box(comm = comm,points=\n",
        "                             [np.array([0,0,0]), np.array([W,L,g])],n=[int(W/(8*h))\n",
        "                             ,int(L/(8*h)),int(g/(8*h))+1], cell_type=mesh.CellType.tetrahedron\n",
        "                               , ghost_mode=mesh.GhostMode.shared_facet)\n",
        "\n",
        "xdmf = dolfinx.io.XDMFFile(domain.comm, \"mesh.xdmf\", \"w\")\n",
        "xdmf.write_mesh(domain)\n",
        "xdmf.close()"
      ]
    },
    {
      "cell_type": "markdown",
      "metadata": {
        "id": "sG4EqV9zwh6p"
      },
      "source": [
        "## Defining the function spaces and trial and test functions"
      ]
    },
    {
      "cell_type": "code",
      "execution_count": null,
      "metadata": {
        "id": "hu3owZDAS2ZI"
      },
      "outputs": [],
      "source": [
        "V = fem.functionspace(domain, (\"CR\", 1, (domain.geometry.dim,)))\n",
        "un = fem.Function(V, name=\"displacement\")\n",
        "u = fem.Function(V)\n",
        "utrial = ufl.TrialFunction(V)\n",
        "delu = ufl.TestFunction(V)\n",
        "\n",
        "el_q = basix.ufl.quadrature_element(domain.topology.cell_name(),\n",
        "                                    value_shape=(domain.geometry.dim,domain.geometry.dim)\n",
        "                                    ,scheme=\"default\", degree=2,symmetry=True)\n",
        "VQe = dolfinx.fem.functionspace(domain, el_q)\n",
        "Cvtrial = fem.Function(VQe)\n",
        "Cvn = fem.Function(VQe, name='Cvn')\n",
        "Cv = fem.Function(VQe, name='Cv')\n",
        "\n",
        "\n",
        "Vplot = fem.functionspace(domain, (\"CG\", 1, (domain.geometry.dim,)))\n",
        "VQePlot = fem.functionspace(domain, (\"Discontinuous Lagrange\", 0, (domain.geometry.dim,domain.geometry.dim)))\n",
        "uplot = fem.Function(Vplot, name='disp')\n",
        "Cvplot = fem.Function(VQePlot, name='Cv')\n",
        "uiter = fem.Function(V, name='uk_1')\n",
        "Cviter = fem.Function(VQe, name='Cvk1')\n",
        "error_cv = fem.Function(Cvtrial.function_space)"
      ]
    },
    {
      "cell_type": "markdown",
      "metadata": {
        "id": "DOo2mC4Hwk-o"
      },
      "source": [
        "## Setting the Dirichlet part of the boundary conditions"
      ]
    },
    {
      "cell_type": "code",
      "execution_count": null,
      "metadata": {
        "id": "oWn9yeLmTJSW"
      },
      "outputs": [],
      "source": [
        "def left(x):\n",
        "    return np.isclose(x[0], 0)\n",
        "\n",
        "def front(x):\n",
        "    return np.isclose(x[0], W)\n",
        "\n",
        "def top(x):\n",
        "    return np.isclose(x[1], L)\n",
        "\n",
        "def bottom(x):\n",
        "    return (x[1]<1e-4) & (x[0]>ac - 1e-6)\n",
        "\n",
        "\n",
        "fdim = domain.topology.dim -1\n",
        "left_facets = mesh.locate_entities_boundary(domain, fdim, left)\n",
        "front_facets = mesh.locate_entities_boundary(domain, fdim, front)\n",
        "top_facets = mesh.locate_entities_boundary(domain, fdim, top)\n",
        "bottom_facets = mesh.locate_entities(domain, fdim, bottom)\n",
        "\n",
        "strtch = ScalarType(0.)\n",
        "\n",
        "dofs_bottom = fem.locate_dofs_topological(V.sub(1), fdim, bottom_facets)\n",
        "\n",
        "dofs_top = fem.locate_dofs_topological(V.sub(1), fdim, top_facets)\n",
        "dofs_top2 = fem.locate_dofs_topological(V.sub(0), fdim, top_facets)\n",
        "dofs_top3 = fem.locate_dofs_topological(V.sub(2), fdim, top_facets)\n",
        "\n",
        "\n",
        "bct = fem.dirichletbc(strtch, dofs_top, V.sub(1))\n",
        "bcr = fem.dirichletbc(ScalarType(0), dofs_top2, V.sub(0))\n",
        "bcr2 = fem.dirichletbc(ScalarType(0), dofs_top3, V.sub(2))\n",
        "bcb = fem.dirichletbc(ScalarType(0), dofs_bottom, V.sub(1))\n",
        "\n",
        "bcs = [bct, bcr, bcr2, bcb]"
      ]
    },
    {
      "cell_type": "markdown",
      "metadata": {
        "id": "W8mMqWnJwpiB"
      },
      "source": [
        "## Marking the facets"
      ]
    },
    {
      "cell_type": "code",
      "execution_count": null,
      "metadata": {
        "id": "2rzGNGrQT-7W"
      },
      "outputs": [],
      "source": [
        "marked_facets = np.hstack([bottom_facets, top_facets, left_facets])\n",
        "marked_values = np.hstack([np.full_like(bottom_facets, 1),\n",
        "                           np.full_like(top_facets, 2),\n",
        "                           np.full_like(left_facets, 3)])\n",
        "sorted_facets = np.argsort(marked_facets)\n",
        "facet_tag = mesh.meshtags(domain, domain.topology.dim -1,\n",
        "                          marked_facets[sorted_facets],\n",
        "                          marked_values[sorted_facets])\n",
        "\n",
        "\n",
        "metadata = {\"quadrature_degree\": 4}\n",
        "ds = ufl.Measure('ds', domain=domain,\n",
        "                 subdomain_data=facet_tag, metadata=metadata)\n",
        "dS = ufl.Measure('dS', domain=domain, metadata=metadata)\n",
        "dx = ufl.Measure(\"dx\", domain=domain, metadata=metadata)\n",
        "\n",
        "def norm_L2(comm, v):\n",
        "    \"\"\"Compute the L2(O)-norm of v\"\"\"\n",
        "    return np.sqrt(comm.allreduce(fem.assemble_scalar(fem.form(ufl.inner(v, v) * dx)), op=MPI.SUM))"
      ]
    },
    {
      "cell_type": "markdown",
      "metadata": {
        "id": "sYoR6Qq3xE0H"
      },
      "source": [
        "## Defining stored energy function"
      ]
    },
    {
      "cell_type": "code",
      "execution_count": null,
      "metadata": {
        "id": "b8FN6RSVUEr8"
      },
      "outputs": [],
      "source": [
        "def freeEnergy(u, Cv):\n",
        "    \"\"\"[summary]\n",
        "        Given, `u` and `Cv` this function\n",
        "        calculates the sum of equilibrium and non-equilibrium\n",
        "        free energies\n",
        "    Args:\n",
        "        u ([dolfin.Function]): [FE displacement field]\n",
        "        Cv ([dolfin.Function]): [FE internal variable]\n",
        "\n",
        "    Returns:\n",
        "        [psiEq + psiNEq]: [Sum of energies of type `ufl.algebra.Sum`]\n",
        "    \"\"\"\n",
        "    F = (ufl.Identity(len(u)) + ufl.grad(u))\n",
        "    C = (F.T * F)\n",
        "    J = (ufl.det(F))\n",
        "    I1 = (ufl.tr(C))\n",
        "    Ce = (C*ufl.inv(Cv))\n",
        "    Ie1 = (ufl.tr(Ce))\n",
        "\n",
        "\n",
        "    psiEq = 3**(1-alph1)/(2.*alph1) * mu1 * (I1**alph1 - 3**alph1) + 3**(1-alph2) / \\\n",
        "        (2.*alph2) * mu2 * (I1**alph2 - 3**alph2) - \\\n",
        "        (mu1 + mu2) * ufl.ln(J) + mu_pr/2*(J-1)**2\n",
        "\n",
        "    psiNeq = 3**(1-a1)/(2.*a1) * m1 * (Ie1**a1 - 3**a1) + 3**(1-a2)/(2.*a2) * \\\n",
        "        m2 * (Ie1**a2 - 3**a2) - (m1 + m2) * \\\n",
        "        ufl.ln(J)\n",
        "\n",
        "    return psiEq + psiNeq\n"
      ]
    },
    {
      "cell_type": "markdown",
      "metadata": {
        "id": "8vQUPwSMxGL6"
      },
      "source": [
        "## Defining the evolution equation"
      ]
    },
    {
      "cell_type": "code",
      "execution_count": null,
      "metadata": {
        "id": "fPyWmGPyUhk2"
      },
      "outputs": [],
      "source": [
        "def evolEqG(u, Cv):\n",
        "    \"\"\"[summary]\n",
        "        Given `u` and `Cv` this function calculates the\n",
        "        RHS of the evolution equation G(C, Cv) as described\n",
        "        in the paper referenced above\n",
        "    Args:\n",
        "        u ([dolfin.Function]): [FE displacement field]\n",
        "        Cv ([dolfin.Function]): [FE internal variable]\n",
        "\n",
        "    Returns:\n",
        "        [G(C(u), Cv)]: [RHS of the evolution equation]\n",
        "    \"\"\"\n",
        "    F = (ufl.Identity(len(u)) + ufl.grad(u))\n",
        "    C = (F.T * F)\n",
        "    I1 = (ufl.tr(C))\n",
        "    Iv1 = (ufl.tr(Cv))\n",
        "    Ce = (C*ufl.inv(Cv))\n",
        "    Ie1 = (ufl.tr(Ce))\n",
        "    Ie2 = 1/2.*((Ie1)**2 - ufl.tr(ufl.dot(Ce,Ce)))\n",
        "\n",
        "    # define etaK\n",
        "    A2 = m1*(Ie1/3)**(a1 - 1) + m2 * (Ie1/3)**(a2 - 1)\n",
        "\n",
        "\n",
        "    eta0f = eta0  + (N0 - eta0)*(ufl.tanh(Iv1**bta1 - 3**bta1 - K1) + np.tanh(K1))/(1 + np.tanh(K1))\n",
        "\n",
        "    etagen = (etaInf + (eta0f - etaInf)/(1 + (K2 *((Ie1**2/3. - Ie2)*A2**2))**bta2))\n",
        "\n",
        "\n",
        "    G = A2 / (etagen) * (C - Ie1/3. * Cv)\n",
        "    G_temp = G\n",
        "    G_temp = local_project(G_temp, VQe)\n",
        "    return G_temp\n"
      ]
    },
    {
      "cell_type": "markdown",
      "metadata": {
        "id": "WJ30VP_mxK2f"
      },
      "source": [
        "## Defining a function for Runge–Kutta method"
      ]
    },
    {
      "cell_type": "code",
      "execution_count": null,
      "metadata": {
        "id": "k16A3Kt0VR43"
      },
      "outputs": [],
      "source": [
        "def k_terms(dt, u, un, Cvn):\n",
        "    \"\"\"[summary]\n",
        "        Given u(tn), Cv(tn), u(t_k, r) and dt this function\n",
        "        calculates the terms k_i (i=1 to 6) as described in\n",
        "        the paper above\n",
        "    Args:\n",
        "        dt ([float]): [time increment]\n",
        "        u ([dolfin.Function]): [FE displacement field]\n",
        "        un ([dolfin.Function]): [FE displacement field at t=tn]\n",
        "        Cvn ([dolfin.Function]): [FE internal variable at t=tn]\n",
        "\n",
        "    Returns:\n",
        "        [k1 + ... + k6]: [ufl.algebra.Sum]\n",
        "    \"\"\"\n",
        "    un_quart = un + 0.25*(u-un)\n",
        "    un_half = un + 0.5*(u-un)\n",
        "    un_thr_quart = un + 0.75 * (u-un)\n",
        "\n",
        "    k1 = evolEqG(un, Cvn)\n",
        "    k1.x.scatter_forward()\n",
        "\n",
        "    k2 = evolEqG(un_half, Cvn + k1*dt/2)\n",
        "    k2.x.scatter_forward()\n",
        "\n",
        "    k3 = evolEqG(un_quart, Cvn + 1./16*dt*(3*k1+k2))\n",
        "    k3.x.scatter_forward()\n",
        "\n",
        "    k4 = evolEqG(un_half, Cvn + dt/2.*k3)\n",
        "    k4.x.scatter_forward()\n",
        "\n",
        "    k5 = evolEqG(un_thr_quart, Cvn + 3./16*dt*(-k2 + 2.*k3 + 3.*k4))\n",
        "    k5.x.scatter_forward()\n",
        "\n",
        "    k6 = evolEqG(u, Cvn + (k1 + 4.*k2 + 6.*k3 - 12.*k4 + 8.*k5) * dt/7.)\n",
        "    k6.x.scatter_forward()\n",
        "\n",
        "    kfinal = dt/90*(7*k1 + 32*k3 + 12*k4 + 32*k5 + 7*k6)\n",
        "    kfinal = local_project(kfinal, VQe)\n",
        "    kfinal.x.scatter_forward()\n",
        "\n",
        "    return kfinal\n"
      ]
    },
    {
      "cell_type": "markdown",
      "metadata": {
        "id": "hniP454Fx2Bp"
      },
      "source": [
        "## Defining a function to do an interpolation for any field"
      ]
    },
    {
      "cell_type": "code",
      "execution_count": null,
      "metadata": {
        "id": "kDKvU1FlVTMp"
      },
      "outputs": [],
      "source": [
        "def local_project(v, V):\n",
        "    \"\"\"[summary]\n",
        "        Helper function to do a interpolation\n",
        "    Args:\n",
        "        v ([dolfin.Funcion]): [function to be projected]\n",
        "        V ([dolfin.Function]): [target `dolfin.FunctionSpace` to be projected on]\n",
        "\n",
        "    Returns:\n",
        "        [dolfin.Function]: [target function after projection]\n",
        "    \"\"\"\n",
        "    expr = fem.Expression(v, V.element.interpolation_points(), comm)\n",
        "    u = fem.Function(V)\n",
        "    u.interpolate(expr)\n",
        "    u.x.scatter_forward()\n",
        "    return u"
      ]
    },
    {
      "cell_type": "markdown",
      "metadata": {
        "id": "P0m6vgYyx8y0"
      },
      "source": [
        "## Setting the initial conditions"
      ]
    },
    {
      "cell_type": "code",
      "execution_count": null,
      "metadata": {
        "id": "cOps0SzMVhCB"
      },
      "outputs": [],
      "source": [
        "def identity_np(x):\n",
        "    values = np.zeros((domain.geometry.dim*domain.geometry.dim,\n",
        "                      x.shape[1]), dtype=np.float64)\n",
        "    values[0,:] = 1\n",
        "    values[4,:] = 1\n",
        "    values[8,:] = 1\n",
        "    return values\n",
        "\n",
        "# initialize the displacements and the internal variable, we may need sth for parallel computation\n",
        "un.x.array[:] = 0.\n",
        "Cv.interpolate(identity_np)\n",
        "Cv.x.scatter_forward()\n",
        "Cvn.interpolate(identity_np)\n",
        "Cvn.x.scatter_forward()"
      ]
    },
    {
      "cell_type": "markdown",
      "metadata": {
        "id": "qB8yBmx4yFH5"
      },
      "source": [
        "## Weak form of PDE for displacement field"
      ]
    },
    {
      "cell_type": "code",
      "execution_count": null,
      "metadata": {
        "id": "RlgHSnQUVrWe"
      },
      "outputs": [],
      "source": [
        "qvals = (mu1+mu2+m1+m2)*10\n",
        "h = ufl.FacetArea(domain)\n",
        "h_avg = (h('+') + h('-')) / 2.0\n",
        "n=ufl.FacetNormal(domain)\n",
        "a_uv = ufl.derivative(freeEnergy(u, Cv), u, delu)*dx + qvals / h_avg * ufl.inner(ufl.jump(u), ufl.jump(delu)) * dS# + (1*qvals / h)*ufl.dot(u,n)*ufl.dot(delu,n)*ds(1) #+ (1*qvals / h)*ufl.dot(u,delu)*ds(1)\n",
        "\n",
        "Jac = ufl.derivative(a_uv, u, utrial)"
      ]
    },
    {
      "cell_type": "markdown",
      "metadata": {
        "id": "ADiCRvglyixR"
      },
      "source": [
        "## Defining a class for solving nonlinear PDEs"
      ]
    },
    {
      "cell_type": "code",
      "execution_count": null,
      "metadata": {
        "id": "9NEFEinlV_pZ"
      },
      "outputs": [],
      "source": [
        "class NonlinearPDE_SNESProblem:\n",
        "    def __init__(self, F, u, bc, J):\n",
        "        #V = u.function_space\n",
        "        #du = ufl.TrialFunction(V)\n",
        "        self.L = fem.form(F)\n",
        "        self.a = fem.form(J)\n",
        "        self.bc = bc\n",
        "        self._F, self._J = None, None\n",
        "        self.u = u\n",
        "\n",
        "    def F(self, snes, x, F):\n",
        "        \"\"\"Assemble residual vector.\"\"\"\n",
        "        x.ghostUpdate(addv=PETSc.InsertMode.INSERT, mode=PETSc.ScatterMode.FORWARD)\n",
        "        #with x.localForm() as _x:\n",
        "            #self.u.x.array[:] = _x.array_r\n",
        "        x.copy(self.u.x.petsc_vec)\n",
        "        self.u.x.petsc_vec.ghostUpdate(addv=PETSc.InsertMode.INSERT, mode=PETSc.ScatterMode.FORWARD)\n",
        "\n",
        "        with F.localForm() as f_local:\n",
        "            f_local.set(0.0)\n",
        "        fem.petsc.assemble_vector(F, self.L)\n",
        "        fem.petsc.apply_lifting(F, [self.a], bcs=[self.bc], x0=[x], alpha=-1.0)\n",
        "        F.ghostUpdate(addv=PETSc.InsertMode.ADD, mode=PETSc.ScatterMode.REVERSE)\n",
        "        fem.petsc.set_bc(F, self.bc, x, -1.0)\n",
        "\n",
        "    def J(self, snes, x, J, P):\n",
        "        \"\"\"Assemble Jacobian matrix.\"\"\"\n",
        "        J.zeroEntries()\n",
        "        fem.petsc.assemble_matrix(J, self.a, bcs=self.bc)\n",
        "        J.assemble()"
      ]
    },
    {
      "cell_type": "markdown",
      "metadata": {
        "id": "c2eICb_bynwm"
      },
      "source": [
        "## Creating SNES solver and its customizations"
      ]
    },
    {
      "cell_type": "code",
      "execution_count": null,
      "metadata": {
        "id": "1SmGHSzUWEgT"
      },
      "outputs": [],
      "source": [
        "# Create nonlinear problem\n",
        "problem = NonlinearPDE_SNESProblem(a_uv, u, bcs, Jac)\n",
        "\n",
        "b = la.create_petsc_vector(V.dofmap.index_map, V.dofmap.index_map_bs)\n",
        "J = fem.petsc.create_matrix(problem.a)\n",
        "\n",
        "\n",
        "# Create Newton solver and solve\n",
        "solver = PETSc.SNES().create()\n",
        "opts = PETSc.Options()\n",
        "opts['snes_linesearch_type'] = 'basic'\n",
        "opts['snes_monitor'] = None\n",
        "opts['snes_linesearch_monitor'] = None\n",
        "solver.setFromOptions()\n",
        "\n",
        "solver.setFunction(problem.F, b)\n",
        "solver.setJacobian(problem.J, J)\n",
        "\n",
        "\n",
        "solver.setTolerances(rtol=1.0e-9, max_it=6)\n",
        "solver.getKSP().setType(\"preonly\")\n",
        "solver.getKSP().setTolerances(rtol=1.0e-9)\n",
        "solver.getKSP().getPC().setType(\"lu\")\n",
        "solver.getKSP().getPC().setFactorSolverType(\"mumps\")"
      ]
    },
    {
      "cell_type": "markdown",
      "metadata": {
        "id": "1R6reTiyyto0"
      },
      "source": [
        "## Setting the time step parameters"
      ]
    },
    {
      "cell_type": "code",
      "execution_count": null,
      "metadata": {
        "id": "gD3WXf4wWOXX"
      },
      "outputs": [],
      "source": [
        "Lambda_max = 1.5\n",
        "Lambda_dot = 10**(0)\n",
        "ldot = Lambda_dot * L\n",
        "n_interval = 80\n",
        "timeVals = np.linspace(0, (Lambda_max -1)*L / ldot, n_interval)\n",
        "dt = timeVals[1] - timeVals[0]\n",
        "stretchVals = np.hstack(ldot*timeVals[:len(timeVals)])\n",
        "dh = (stretchVals[1] - stretchVals[0])\n",
        "\n",
        "\n",
        "wfil = io.XDMFFile(domain.comm, \"paraview/disp_Visco_SENT.xdmf\", \"w\")\n",
        "wfil.write_mesh(domain)\n",
        "\n",
        "if rank == 0:\n",
        "    rfile =  open(f'Visco_test_results_{ac}.txt', 'a')\n",
        "    rfile.write(\"time      displacement      stretch      force\\n\")"
      ]
    },
    {
      "cell_type": "markdown",
      "metadata": {
        "id": "XNw9ur5sy0vh"
      },
      "source": [
        "## Solving the problem over several time steps via a staggered scheme"
      ]
    },
    {
      "cell_type": "code",
      "execution_count": null,
      "metadata": {
        "id": "MY-Q2oE-WkEi"
      },
      "outputs": [],
      "source": [
        "for i, tk in enumerate(timeVals):\n",
        "    bct.g.value[...] = ScalarType(stretchVals[i])\n",
        "    if domain.comm.rank == 0:\n",
        "        print('u_3: {}'.format(float(bct.g.value)))\n",
        "\n",
        "\n",
        "    solver.solve(None, u.x.petsc_vec)\n",
        "    u.x.scatter_forward()\n",
        "\n",
        "    Av = Cvn + k_terms(dt, u, un, Cvn)\n",
        "    Cviter = local_project(Av/(ufl.det(Av))**(1/3), VQe)\n",
        "\n",
        "\n",
        "    Cviter.x.scatter_forward()\n",
        "    error_cv.x.array[:] = Cvtrial.x.array - Cviter.x.array\n",
        "\n",
        "    norm_delCv = norm_L2(comm, error_cv)\n",
        "    if domain.comm.rank == 0:\n",
        "        print(norm_delCv)\n",
        "    iterCount = 0\n",
        "\n",
        "\n",
        "    while norm_delCv > 1.e-5 and iterCount <= 10:\n",
        "        u.x.scatter_forward()\n",
        "        if domain.comm.rank == 0:\n",
        "            print('Staggered scheme started')\n",
        "        Cvtrial.x.array[:] = Cviter.x.array\n",
        "        Cv.x.array[:] = Cviter.x.array\n",
        "        solver.solve(None, u.x.petsc_vec)\n",
        "        u.x.scatter_forward()\n",
        "\n",
        "        uiter.x.array[:] = u.x.array\n",
        "        Av = Cvn + k_terms(dt, u, un, Cvn)\n",
        "        Cviter = local_project(Av/(ufl.det(Av))**(1/3), VQe)\n",
        "        Cviter.x.scatter_forward()\n",
        "        iterCount += 1\n",
        "        error_cv.x.array[:] = Cvtrial.x.array - Cviter.x.array\n",
        "\n",
        "        norm_delCv = norm_L2(comm, error_cv)\n",
        "        if domain.comm.rank == 0:\n",
        "            print(\"Staggered Iteration: {}, Norm = {}\".format(iterCount, norm_delCv))\n",
        "\n",
        "\n",
        "    un.x.array[:] = u.x.array\n",
        "    Cvn.x.array[:] = Cviter.x.array\n",
        "\n",
        "\n",
        "    # post-processing\n",
        "    be = fem.petsc.assemble_vector(fem.form(a_uv)).getArray()\n",
        "    fint=be.copy()\n",
        "    Fx=domain.comm.allreduce(np.sum(fint[dofs_top]), op=MPI.SUM)\n",
        "    uplot.x.array[:] = (local_project(un, Vplot)).x.array\n",
        "    wfil.write_function(uplot, tk)\n",
        "\n",
        "\n",
        "    if rank == 0:\n",
        "        rfile = open(f'Visco_test_results_{ac}.txt', 'a')\n",
        "        rfile.write(\"%s %s %s %s\\n\" % (str(tk),\n",
        "                                                str(stretchVals[i]),\n",
        "                                                str(stretchVals[i]/L+1),\n",
        "                                                str(Fx)))\n",
        "\n",
        "\n",
        "\n",
        "wfil.close()\n",
        "rfile.close()"
      ]
    },
    {
      "cell_type": "markdown",
      "metadata": {
        "id": "yHdHehLJXBOl"
      },
      "source": [
        "## Results"
      ]
    },
    {
      "cell_type": "markdown",
      "metadata": {
        "id": "GWiL9vrlXD_O"
      },
      "source": [
        "Snapshots of the specimen at the beginning and end of the loading\n",
        "\n",
        "![mainpic2.jpg](data:image/jpeg;base64,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)"
      ]
    }
  ],
  "metadata": {
    "colab": {
      "provenance": []
    },
    "kernelspec": {
      "display_name": "Python 3",
      "name": "python3"
    },
    "language_info": {
      "name": "python"
    }
  },
  "nbformat": 4,
  "nbformat_minor": 0
}
